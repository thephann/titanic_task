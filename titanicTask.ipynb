{
  "nbformat": 4,
  "nbformat_minor": 0,
  "metadata": {
    "colab": {
      "name": "titanicTask.ipynb",
      "provenance": [],
      "collapsed_sections": []
    },
    "kernelspec": {
      "name": "python3",
      "display_name": "Python 3"
    }
  },
  "cells": [
    {
      "cell_type": "code",
      "metadata": {
        "id": "CGAy5pAZC0he"
      },
      "source": [
        "import pandas as pd\n",
        "import numpy as np\n",
        "import matplotlib.pyplot as plt"
      ],
      "execution_count": 5,
      "outputs": []
    },
    {
      "cell_type": "code",
      "metadata": {
        "id": "vz-jH8T_Uk2c",
        "outputId": "63fb47ae-0710-48f9-f5ae-ba6eb75f44a5",
        "colab": {
          "resources": {
            "http://localhost:8080/nbextensions/google.colab/files.js": {
              "data": "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",
              "ok": true,
              "headers": [
                [
                  "content-type",
                  "application/javascript"
                ]
              ],
              "status": 200,
              "status_text": ""
            }
          },
          "base_uri": "https://localhost:8080/",
          "height": 106
        }
      },
      "source": [
        "from google.colab import files\n",
        "uploaded = files.upload()"
      ],
      "execution_count": 6,
      "outputs": [
        {
          "output_type": "display_data",
          "data": {
            "text/html": [
              "\n",
              "     <input type=\"file\" id=\"files-5fb421ee-6f90-4336-a647-64ef369d680e\" name=\"files[]\" multiple disabled\n",
              "        style=\"border:none\" />\n",
              "     <output id=\"result-5fb421ee-6f90-4336-a647-64ef369d680e\">\n",
              "      Upload widget is only available when the cell has been executed in the\n",
              "      current browser session. Please rerun this cell to enable.\n",
              "      </output>\n",
              "      <script src=\"/nbextensions/google.colab/files.js\"></script> "
            ],
            "text/plain": [
              "<IPython.core.display.HTML object>"
            ]
          },
          "metadata": {
            "tags": []
          }
        },
        {
          "output_type": "stream",
          "text": [
            "Saving test.csv to test.csv\n",
            "Saving train.csv to train.csv\n"
          ],
          "name": "stdout"
        }
      ]
    },
    {
      "cell_type": "code",
      "metadata": {
        "id": "yNBAlWzlGIFl",
        "outputId": "43ff1775-e44c-4151-83e7-1fe2bd90cc91",
        "colab": {
          "base_uri": "https://localhost:8080/",
          "height": 255
        }
      },
      "source": [
        "train_data = pd.read_csv('train.csv')\n",
        "print(train_data)"
      ],
      "execution_count": 7,
      "outputs": [
        {
          "output_type": "stream",
          "text": [
            "     PassengerId  Survived  Pclass  ...     Fare Cabin  Embarked\n",
            "0              1         0       3  ...   7.2500   NaN         S\n",
            "1              2         1       1  ...  71.2833   C85         C\n",
            "2              3         1       3  ...   7.9250   NaN         S\n",
            "3              4         1       1  ...  53.1000  C123         S\n",
            "4              5         0       3  ...   8.0500   NaN         S\n",
            "..           ...       ...     ...  ...      ...   ...       ...\n",
            "886          887         0       2  ...  13.0000   NaN         S\n",
            "887          888         1       1  ...  30.0000   B42         S\n",
            "888          889         0       3  ...  23.4500   NaN         S\n",
            "889          890         1       1  ...  30.0000  C148         C\n",
            "890          891         0       3  ...   7.7500   NaN         Q\n",
            "\n",
            "[891 rows x 12 columns]\n"
          ],
          "name": "stdout"
        }
      ]
    },
    {
      "cell_type": "code",
      "metadata": {
        "id": "RnDV_NbdIS5I",
        "outputId": "776351d3-01ee-468b-d214-5a7542a9717c",
        "colab": {
          "base_uri": "https://localhost:8080/",
          "height": 340
        }
      },
      "source": [
        "train_data.info()"
      ],
      "execution_count": 8,
      "outputs": [
        {
          "output_type": "stream",
          "text": [
            "<class 'pandas.core.frame.DataFrame'>\n",
            "RangeIndex: 891 entries, 0 to 890\n",
            "Data columns (total 12 columns):\n",
            " #   Column       Non-Null Count  Dtype  \n",
            "---  ------       --------------  -----  \n",
            " 0   PassengerId  891 non-null    int64  \n",
            " 1   Survived     891 non-null    int64  \n",
            " 2   Pclass       891 non-null    int64  \n",
            " 3   Name         891 non-null    object \n",
            " 4   Sex          891 non-null    object \n",
            " 5   Age          714 non-null    float64\n",
            " 6   SibSp        891 non-null    int64  \n",
            " 7   Parch        891 non-null    int64  \n",
            " 8   Ticket       891 non-null    object \n",
            " 9   Fare         891 non-null    float64\n",
            " 10  Cabin        204 non-null    object \n",
            " 11  Embarked     889 non-null    object \n",
            "dtypes: float64(2), int64(5), object(5)\n",
            "memory usage: 83.7+ KB\n"
          ],
          "name": "stdout"
        }
      ]
    },
    {
      "cell_type": "code",
      "metadata": {
        "id": "IjPkgt-tnWNE",
        "outputId": "2b1889ab-2b87-4c22-b6fc-bed28597e9e1",
        "colab": {
          "base_uri": "https://localhost:8080/",
          "height": 297
        }
      },
      "source": [
        "train_data.describe()"
      ],
      "execution_count": 9,
      "outputs": [
        {
          "output_type": "execute_result",
          "data": {
            "text/html": [
              "<div>\n",
              "<style scoped>\n",
              "    .dataframe tbody tr th:only-of-type {\n",
              "        vertical-align: middle;\n",
              "    }\n",
              "\n",
              "    .dataframe tbody tr th {\n",
              "        vertical-align: top;\n",
              "    }\n",
              "\n",
              "    .dataframe thead th {\n",
              "        text-align: right;\n",
              "    }\n",
              "</style>\n",
              "<table border=\"1\" class=\"dataframe\">\n",
              "  <thead>\n",
              "    <tr style=\"text-align: right;\">\n",
              "      <th></th>\n",
              "      <th>PassengerId</th>\n",
              "      <th>Survived</th>\n",
              "      <th>Pclass</th>\n",
              "      <th>Age</th>\n",
              "      <th>SibSp</th>\n",
              "      <th>Parch</th>\n",
              "      <th>Fare</th>\n",
              "    </tr>\n",
              "  </thead>\n",
              "  <tbody>\n",
              "    <tr>\n",
              "      <th>count</th>\n",
              "      <td>891.000000</td>\n",
              "      <td>891.000000</td>\n",
              "      <td>891.000000</td>\n",
              "      <td>714.000000</td>\n",
              "      <td>891.000000</td>\n",
              "      <td>891.000000</td>\n",
              "      <td>891.000000</td>\n",
              "    </tr>\n",
              "    <tr>\n",
              "      <th>mean</th>\n",
              "      <td>446.000000</td>\n",
              "      <td>0.383838</td>\n",
              "      <td>2.308642</td>\n",
              "      <td>29.699118</td>\n",
              "      <td>0.523008</td>\n",
              "      <td>0.381594</td>\n",
              "      <td>32.204208</td>\n",
              "    </tr>\n",
              "    <tr>\n",
              "      <th>std</th>\n",
              "      <td>257.353842</td>\n",
              "      <td>0.486592</td>\n",
              "      <td>0.836071</td>\n",
              "      <td>14.526497</td>\n",
              "      <td>1.102743</td>\n",
              "      <td>0.806057</td>\n",
              "      <td>49.693429</td>\n",
              "    </tr>\n",
              "    <tr>\n",
              "      <th>min</th>\n",
              "      <td>1.000000</td>\n",
              "      <td>0.000000</td>\n",
              "      <td>1.000000</td>\n",
              "      <td>0.420000</td>\n",
              "      <td>0.000000</td>\n",
              "      <td>0.000000</td>\n",
              "      <td>0.000000</td>\n",
              "    </tr>\n",
              "    <tr>\n",
              "      <th>25%</th>\n",
              "      <td>223.500000</td>\n",
              "      <td>0.000000</td>\n",
              "      <td>2.000000</td>\n",
              "      <td>20.125000</td>\n",
              "      <td>0.000000</td>\n",
              "      <td>0.000000</td>\n",
              "      <td>7.910400</td>\n",
              "    </tr>\n",
              "    <tr>\n",
              "      <th>50%</th>\n",
              "      <td>446.000000</td>\n",
              "      <td>0.000000</td>\n",
              "      <td>3.000000</td>\n",
              "      <td>28.000000</td>\n",
              "      <td>0.000000</td>\n",
              "      <td>0.000000</td>\n",
              "      <td>14.454200</td>\n",
              "    </tr>\n",
              "    <tr>\n",
              "      <th>75%</th>\n",
              "      <td>668.500000</td>\n",
              "      <td>1.000000</td>\n",
              "      <td>3.000000</td>\n",
              "      <td>38.000000</td>\n",
              "      <td>1.000000</td>\n",
              "      <td>0.000000</td>\n",
              "      <td>31.000000</td>\n",
              "    </tr>\n",
              "    <tr>\n",
              "      <th>max</th>\n",
              "      <td>891.000000</td>\n",
              "      <td>1.000000</td>\n",
              "      <td>3.000000</td>\n",
              "      <td>80.000000</td>\n",
              "      <td>8.000000</td>\n",
              "      <td>6.000000</td>\n",
              "      <td>512.329200</td>\n",
              "    </tr>\n",
              "  </tbody>\n",
              "</table>\n",
              "</div>"
            ],
            "text/plain": [
              "       PassengerId    Survived      Pclass  ...       SibSp       Parch        Fare\n",
              "count   891.000000  891.000000  891.000000  ...  891.000000  891.000000  891.000000\n",
              "mean    446.000000    0.383838    2.308642  ...    0.523008    0.381594   32.204208\n",
              "std     257.353842    0.486592    0.836071  ...    1.102743    0.806057   49.693429\n",
              "min       1.000000    0.000000    1.000000  ...    0.000000    0.000000    0.000000\n",
              "25%     223.500000    0.000000    2.000000  ...    0.000000    0.000000    7.910400\n",
              "50%     446.000000    0.000000    3.000000  ...    0.000000    0.000000   14.454200\n",
              "75%     668.500000    1.000000    3.000000  ...    1.000000    0.000000   31.000000\n",
              "max     891.000000    1.000000    3.000000  ...    8.000000    6.000000  512.329200\n",
              "\n",
              "[8 rows x 7 columns]"
            ]
          },
          "metadata": {
            "tags": []
          },
          "execution_count": 9
        }
      ]
    },
    {
      "cell_type": "code",
      "metadata": {
        "id": "RMajXsWvKSSE",
        "outputId": "6cf09450-0566-43f4-a43e-714d8e184b59",
        "colab": {
          "base_uri": "https://localhost:8080/",
          "height": 51
        }
      },
      "source": [
        "train_data.columns.values"
      ],
      "execution_count": 10,
      "outputs": [
        {
          "output_type": "execute_result",
          "data": {
            "text/plain": [
              "array(['PassengerId', 'Survived', 'Pclass', 'Name', 'Sex', 'Age', 'SibSp',\n",
              "       'Parch', 'Ticket', 'Fare', 'Cabin', 'Embarked'], dtype=object)"
            ]
          },
          "metadata": {
            "tags": []
          },
          "execution_count": 10
        }
      ]
    },
    {
      "cell_type": "code",
      "metadata": {
        "id": "-Ix7BtlQYF0V"
      },
      "source": [
        "train_data = train_data.drop(labels=['Cabin'],axis='columns')"
      ],
      "execution_count": 11,
      "outputs": []
    },
    {
      "cell_type": "code",
      "metadata": {
        "id": "1GisGG6Gf5UM",
        "outputId": "64c8ff39-5ea6-44cc-b881-ae943c5c7ea9",
        "colab": {
          "base_uri": "https://localhost:8080/",
          "height": 255
        }
      },
      "source": [
        "print(train_data)"
      ],
      "execution_count": 12,
      "outputs": [
        {
          "output_type": "stream",
          "text": [
            "     PassengerId  Survived  Pclass  ...            Ticket     Fare  Embarked\n",
            "0              1         0       3  ...         A/5 21171   7.2500         S\n",
            "1              2         1       1  ...          PC 17599  71.2833         C\n",
            "2              3         1       3  ...  STON/O2. 3101282   7.9250         S\n",
            "3              4         1       1  ...            113803  53.1000         S\n",
            "4              5         0       3  ...            373450   8.0500         S\n",
            "..           ...       ...     ...  ...               ...      ...       ...\n",
            "886          887         0       2  ...            211536  13.0000         S\n",
            "887          888         1       1  ...            112053  30.0000         S\n",
            "888          889         0       3  ...        W./C. 6607  23.4500         S\n",
            "889          890         1       1  ...            111369  30.0000         C\n",
            "890          891         0       3  ...            370376   7.7500         Q\n",
            "\n",
            "[891 rows x 11 columns]\n"
          ],
          "name": "stdout"
        }
      ]
    },
    {
      "cell_type": "code",
      "metadata": {
        "id": "rvechLU-lG2x"
      },
      "source": [
        "train_data['Age'] = train_data['Age'].fillna(train_data['Age'].mean())"
      ],
      "execution_count": 13,
      "outputs": []
    },
    {
      "cell_type": "code",
      "metadata": {
        "id": "4agGSx5BkuUP",
        "outputId": "31f9ec62-d7d7-40de-f9a6-9bb4729a1ba3",
        "colab": {
          "base_uri": "https://localhost:8080/",
          "height": 85
        }
      },
      "source": [
        "train_data[\"Embarked\"].value_counts()"
      ],
      "execution_count": 14,
      "outputs": [
        {
          "output_type": "execute_result",
          "data": {
            "text/plain": [
              "S    644\n",
              "C    168\n",
              "Q     77\n",
              "Name: Embarked, dtype: int64"
            ]
          },
          "metadata": {
            "tags": []
          },
          "execution_count": 14
        }
      ]
    },
    {
      "cell_type": "code",
      "metadata": {
        "id": "U1WGauEYnmPg"
      },
      "source": [
        "train_data['Embarked'] = train_data['Embarked'].fillna('S')"
      ],
      "execution_count": 15,
      "outputs": []
    },
    {
      "cell_type": "code",
      "metadata": {
        "id": "wvV3Us-TnxvZ",
        "outputId": "a273ab4a-54c2-4d58-b26b-16911224bab2",
        "colab": {
          "base_uri": "https://localhost:8080/",
          "height": 323
        }
      },
      "source": [
        "train_data.info()"
      ],
      "execution_count": 16,
      "outputs": [
        {
          "output_type": "stream",
          "text": [
            "<class 'pandas.core.frame.DataFrame'>\n",
            "RangeIndex: 891 entries, 0 to 890\n",
            "Data columns (total 11 columns):\n",
            " #   Column       Non-Null Count  Dtype  \n",
            "---  ------       --------------  -----  \n",
            " 0   PassengerId  891 non-null    int64  \n",
            " 1   Survived     891 non-null    int64  \n",
            " 2   Pclass       891 non-null    int64  \n",
            " 3   Name         891 non-null    object \n",
            " 4   Sex          891 non-null    object \n",
            " 5   Age          891 non-null    float64\n",
            " 6   SibSp        891 non-null    int64  \n",
            " 7   Parch        891 non-null    int64  \n",
            " 8   Ticket       891 non-null    object \n",
            " 9   Fare         891 non-null    float64\n",
            " 10  Embarked     891 non-null    object \n",
            "dtypes: float64(2), int64(5), object(4)\n",
            "memory usage: 76.7+ KB\n"
          ],
          "name": "stdout"
        }
      ]
    },
    {
      "cell_type": "code",
      "metadata": {
        "id": "vzIAldNIn1uc"
      },
      "source": [
        "train_data = train_data.drop(labels=['Name','Ticket'],axis='columns')"
      ],
      "execution_count": 17,
      "outputs": []
    },
    {
      "cell_type": "code",
      "metadata": {
        "id": "jFlMIAi6ojLy",
        "outputId": "6584d2e6-30c8-4dc0-8c58-b86c4137defb",
        "colab": {
          "base_uri": "https://localhost:8080/",
          "height": 255
        }
      },
      "source": [
        "print(train_data)"
      ],
      "execution_count": 18,
      "outputs": [
        {
          "output_type": "stream",
          "text": [
            "     PassengerId  Survived  Pclass     Sex  ...  SibSp  Parch     Fare  Embarked\n",
            "0              1         0       3    male  ...      1      0   7.2500         S\n",
            "1              2         1       1  female  ...      1      0  71.2833         C\n",
            "2              3         1       3  female  ...      0      0   7.9250         S\n",
            "3              4         1       1  female  ...      1      0  53.1000         S\n",
            "4              5         0       3    male  ...      0      0   8.0500         S\n",
            "..           ...       ...     ...     ...  ...    ...    ...      ...       ...\n",
            "886          887         0       2    male  ...      0      0  13.0000         S\n",
            "887          888         1       1  female  ...      0      0  30.0000         S\n",
            "888          889         0       3  female  ...      1      2  23.4500         S\n",
            "889          890         1       1    male  ...      0      0  30.0000         C\n",
            "890          891         0       3    male  ...      0      0   7.7500         Q\n",
            "\n",
            "[891 rows x 9 columns]\n"
          ],
          "name": "stdout"
        }
      ]
    },
    {
      "cell_type": "code",
      "metadata": {
        "id": "VPiHhrOronZb"
      },
      "source": [
        "train_data = pd.get_dummies(train_data, columns=['Sex'])"
      ],
      "execution_count": 19,
      "outputs": []
    },
    {
      "cell_type": "code",
      "metadata": {
        "id": "acvtkL9Hp8f3",
        "outputId": "dc8a1a2d-2ae9-410e-f3a0-33e21880f110",
        "colab": {
          "base_uri": "https://localhost:8080/",
          "height": 306
        }
      },
      "source": [
        "train_data.info()"
      ],
      "execution_count": 20,
      "outputs": [
        {
          "output_type": "stream",
          "text": [
            "<class 'pandas.core.frame.DataFrame'>\n",
            "RangeIndex: 891 entries, 0 to 890\n",
            "Data columns (total 10 columns):\n",
            " #   Column       Non-Null Count  Dtype  \n",
            "---  ------       --------------  -----  \n",
            " 0   PassengerId  891 non-null    int64  \n",
            " 1   Survived     891 non-null    int64  \n",
            " 2   Pclass       891 non-null    int64  \n",
            " 3   Age          891 non-null    float64\n",
            " 4   SibSp        891 non-null    int64  \n",
            " 5   Parch        891 non-null    int64  \n",
            " 6   Fare         891 non-null    float64\n",
            " 7   Embarked     891 non-null    object \n",
            " 8   Sex_female   891 non-null    uint8  \n",
            " 9   Sex_male     891 non-null    uint8  \n",
            "dtypes: float64(2), int64(5), object(1), uint8(2)\n",
            "memory usage: 57.6+ KB\n"
          ],
          "name": "stdout"
        }
      ]
    },
    {
      "cell_type": "code",
      "metadata": {
        "id": "jjbrWOMYqGy3"
      },
      "source": [
        "train_data = pd.get_dummies(train_data, columns=['Embarked'])"
      ],
      "execution_count": 21,
      "outputs": []
    },
    {
      "cell_type": "code",
      "metadata": {
        "id": "HvUB_gbtqMkW",
        "outputId": "1df99152-f842-4194-ba66-8613b058fc9c",
        "colab": {
          "base_uri": "https://localhost:8080/",
          "height": 340
        }
      },
      "source": [
        "train_data.info()"
      ],
      "execution_count": 22,
      "outputs": [
        {
          "output_type": "stream",
          "text": [
            "<class 'pandas.core.frame.DataFrame'>\n",
            "RangeIndex: 891 entries, 0 to 890\n",
            "Data columns (total 12 columns):\n",
            " #   Column       Non-Null Count  Dtype  \n",
            "---  ------       --------------  -----  \n",
            " 0   PassengerId  891 non-null    int64  \n",
            " 1   Survived     891 non-null    int64  \n",
            " 2   Pclass       891 non-null    int64  \n",
            " 3   Age          891 non-null    float64\n",
            " 4   SibSp        891 non-null    int64  \n",
            " 5   Parch        891 non-null    int64  \n",
            " 6   Fare         891 non-null    float64\n",
            " 7   Sex_female   891 non-null    uint8  \n",
            " 8   Sex_male     891 non-null    uint8  \n",
            " 9   Embarked_C   891 non-null    uint8  \n",
            " 10  Embarked_Q   891 non-null    uint8  \n",
            " 11  Embarked_S   891 non-null    uint8  \n",
            "dtypes: float64(2), int64(5), uint8(5)\n",
            "memory usage: 53.2 KB\n"
          ],
          "name": "stdout"
        }
      ]
    },
    {
      "cell_type": "code",
      "metadata": {
        "id": "SHgxoeCUaHxz"
      },
      "source": [
        "columns_selected = ['Pclass','Age', 'Parch', 'SibSp', 'Fare','Sex_male', 'Sex_female', 'Embarked_C', 'Embarked_Q', 'Embarked_S']\n",
        "Y = train_data['Survived']\n",
        "X = train_data[columns_selected]"
      ],
      "execution_count": 27,
      "outputs": []
    },
    {
      "cell_type": "code",
      "metadata": {
        "id": "rPXEC2r2gCjE",
        "outputId": "ecc3135e-9b7d-49f2-ad15-a6809cabe1ec",
        "colab": {
          "base_uri": "https://localhost:8080/",
          "height": 306
        }
      },
      "source": [
        "X.info()"
      ],
      "execution_count": 28,
      "outputs": [
        {
          "output_type": "stream",
          "text": [
            "<class 'pandas.core.frame.DataFrame'>\n",
            "RangeIndex: 891 entries, 0 to 890\n",
            "Data columns (total 10 columns):\n",
            " #   Column      Non-Null Count  Dtype  \n",
            "---  ------      --------------  -----  \n",
            " 0   Pclass      891 non-null    int64  \n",
            " 1   Age         891 non-null    float64\n",
            " 2   Parch       891 non-null    int64  \n",
            " 3   SibSp       891 non-null    int64  \n",
            " 4   Fare        891 non-null    float64\n",
            " 5   Sex_male    891 non-null    uint8  \n",
            " 6   Sex_female  891 non-null    uint8  \n",
            " 7   Embarked_C  891 non-null    uint8  \n",
            " 8   Embarked_Q  891 non-null    uint8  \n",
            " 9   Embarked_S  891 non-null    uint8  \n",
            "dtypes: float64(2), int64(3), uint8(5)\n",
            "memory usage: 39.3 KB\n"
          ],
          "name": "stdout"
        }
      ]
    },
    {
      "cell_type": "code",
      "metadata": {
        "id": "BlWTlU2vmVNN"
      },
      "source": [
        "from sklearn.tree import DecisionTreeClassifier\n",
        "import graphviz\n",
        "from sklearn import tree\n",
        "X_train, X_test, Y_train, Y_test = train_test_split(X, Y, test_size = 0.3)"
      ],
      "execution_count": 38,
      "outputs": []
    },
    {
      "cell_type": "code",
      "metadata": {
        "id": "he103F2LmeGR"
      },
      "source": [
        "clf = tree.DecisionTreeClassifier()\n",
        "clf = clf.fit(X_train, Y_train)"
      ],
      "execution_count": 41,
      "outputs": []
    },
    {
      "cell_type": "code",
      "metadata": {
        "id": "Ob6Q4Tryq7Zt",
        "outputId": "121e8623-0a5a-481f-ffd5-70acba79a76d",
        "colab": {
          "base_uri": "https://localhost:8080/",
          "height": 1000
        }
      },
      "source": [
        "tree.plot_tree(clf) "
      ],
      "execution_count": 42,
      "outputs": [
        {
          "output_type": "execute_result",
          "data": {
            "text/plain": [
              "[Text(164.31490384615384, 210.645, 'X[6] <= 0.5\\ngini = 0.471\\nsamples = 623\\nvalue = [386, 237]'),\n",
              " Text(64.48779585798816, 197.055, 'X[0] <= 1.5\\ngini = 0.298\\nsamples = 401\\nvalue = [328, 73]'),\n",
              " Text(31.036686390532545, 183.465, 'X[1] <= 14.5\\ngini = 0.49\\nsamples = 77\\nvalue = [44, 33]'),\n",
              " Text(28.39526627218935, 169.875, 'gini = 0.0\\nsamples = 3\\nvalue = [0, 3]'),\n",
              " Text(33.67810650887574, 169.875, 'X[1] <= 24.5\\ngini = 0.482\\nsamples = 74\\nvalue = [44, 30]'),\n",
              " Text(31.036686390532545, 156.285, 'gini = 0.0\\nsamples = 5\\nvalue = [5, 0]'),\n",
              " Text(36.319526627218934, 156.285, 'X[1] <= 28.5\\ngini = 0.491\\nsamples = 69\\nvalue = [39, 30]'),\n",
              " Text(24.433136094674555, 142.695, 'X[4] <= 144.115\\ngini = 0.278\\nsamples = 6\\nvalue = [1, 5]'),\n",
              " Text(21.79171597633136, 129.10500000000002, 'gini = 0.0\\nsamples = 5\\nvalue = [0, 5]'),\n",
              " Text(27.074556213017754, 129.10500000000002, 'gini = 0.0\\nsamples = 1\\nvalue = [1, 0]'),\n",
              " Text(48.20591715976332, 142.695, 'X[3] <= 0.5\\ngini = 0.479\\nsamples = 63\\nvalue = [38, 25]'),\n",
              " Text(32.35739644970414, 129.10500000000002, 'X[4] <= 32.25\\ngini = 0.439\\nsamples = 43\\nvalue = [29, 14]'),\n",
              " Text(22.452071005917162, 115.515, 'X[1] <= 53.5\\ngini = 0.497\\nsamples = 26\\nvalue = [14, 12]'),\n",
              " Text(15.848520710059173, 101.925, 'X[1] <= 30.85\\ngini = 0.495\\nsamples = 20\\nvalue = [9, 11]'),\n",
              " Text(10.565680473372781, 88.33500000000001, 'X[4] <= 29.85\\ngini = 0.408\\nsamples = 7\\nvalue = [5, 2]'),\n",
              " Text(7.9242603550295865, 74.745, 'X[4] <= 28.71\\ngini = 0.48\\nsamples = 5\\nvalue = [3, 2]'),\n",
              " Text(5.282840236686391, 61.155, 'X[4] <= 13.275\\ngini = 0.375\\nsamples = 4\\nvalue = [3, 1]'),\n",
              " Text(2.6414201183431953, 47.565, 'gini = 0.0\\nsamples = 1\\nvalue = [1, 0]'),\n",
              " Text(7.9242603550295865, 47.565, 'X[4] <= 27.135\\ngini = 0.444\\nsamples = 3\\nvalue = [2, 1]'),\n",
              " Text(5.282840236686391, 33.974999999999994, 'gini = 0.5\\nsamples = 2\\nvalue = [1, 1]'),\n",
              " Text(10.565680473372781, 33.974999999999994, 'gini = 0.0\\nsamples = 1\\nvalue = [1, 0]'),\n",
              " Text(10.565680473372781, 61.155, 'gini = 0.0\\nsamples = 1\\nvalue = [0, 1]'),\n",
              " Text(13.207100591715976, 74.745, 'gini = 0.0\\nsamples = 2\\nvalue = [2, 0]'),\n",
              " Text(21.131360946745563, 88.33500000000001, 'X[1] <= 36.5\\ngini = 0.426\\nsamples = 13\\nvalue = [4, 9]'),\n",
              " Text(18.489940828402368, 74.745, 'gini = 0.0\\nsamples = 4\\nvalue = [0, 4]'),\n",
              " Text(23.772781065088758, 74.745, 'X[1] <= 39.0\\ngini = 0.494\\nsamples = 9\\nvalue = [4, 5]'),\n",
              " Text(21.131360946745563, 61.155, 'gini = 0.0\\nsamples = 2\\nvalue = [2, 0]'),\n",
              " Text(26.414201183431953, 61.155, 'X[4] <= 29.5\\ngini = 0.408\\nsamples = 7\\nvalue = [2, 5]'),\n",
              " Text(23.772781065088758, 47.565, 'X[4] <= 27.525\\ngini = 0.48\\nsamples = 5\\nvalue = [2, 3]'),\n",
              " Text(21.131360946745563, 33.974999999999994, 'X[4] <= 26.419\\ngini = 0.375\\nsamples = 4\\nvalue = [1, 3]'),\n",
              " Text(18.489940828402368, 20.38499999999999, 'gini = 0.0\\nsamples = 1\\nvalue = [0, 1]'),\n",
              " Text(23.772781065088758, 20.38499999999999, 'X[1] <= 46.5\\ngini = 0.444\\nsamples = 3\\nvalue = [1, 2]'),\n",
              " Text(21.131360946745563, 6.7949999999999875, 'gini = 0.5\\nsamples = 2\\nvalue = [1, 1]'),\n",
              " Text(26.414201183431953, 6.7949999999999875, 'gini = 0.0\\nsamples = 1\\nvalue = [0, 1]'),\n",
              " Text(26.414201183431953, 33.974999999999994, 'gini = 0.0\\nsamples = 1\\nvalue = [1, 0]'),\n",
              " Text(29.055621301775147, 47.565, 'gini = 0.0\\nsamples = 2\\nvalue = [0, 2]'),\n",
              " Text(29.055621301775147, 101.925, 'X[1] <= 72.5\\ngini = 0.278\\nsamples = 6\\nvalue = [5, 1]'),\n",
              " Text(26.414201183431953, 88.33500000000001, 'gini = 0.0\\nsamples = 5\\nvalue = [5, 0]'),\n",
              " Text(31.697041420118346, 88.33500000000001, 'gini = 0.0\\nsamples = 1\\nvalue = [0, 1]'),\n",
              " Text(42.262721893491126, 115.515, 'X[4] <= 369.927\\ngini = 0.208\\nsamples = 17\\nvalue = [15, 2]'),\n",
              " Text(39.62130177514793, 101.925, 'X[4] <= 37.0\\ngini = 0.117\\nsamples = 16\\nvalue = [15, 1]'),\n",
              " Text(36.979881656804736, 88.33500000000001, 'X[4] <= 35.25\\ngini = 0.32\\nsamples = 5\\nvalue = [4, 1]'),\n",
              " Text(34.33846153846154, 74.745, 'gini = 0.0\\nsamples = 3\\nvalue = [3, 0]'),\n",
              " Text(39.62130177514793, 74.745, 'X[7] <= 0.5\\ngini = 0.5\\nsamples = 2\\nvalue = [1, 1]'),\n",
              " Text(36.979881656804736, 61.155, 'gini = 0.0\\nsamples = 1\\nvalue = [1, 0]'),\n",
              " Text(42.262721893491126, 61.155, 'gini = 0.0\\nsamples = 1\\nvalue = [0, 1]'),\n",
              " Text(42.262721893491126, 88.33500000000001, 'gini = 0.0\\nsamples = 11\\nvalue = [11, 0]'),\n",
              " Text(44.904142011834324, 101.925, 'gini = 0.0\\nsamples = 1\\nvalue = [0, 1]'),\n",
              " Text(64.0544378698225, 129.10500000000002, 'X[7] <= 0.5\\ngini = 0.495\\nsamples = 20\\nvalue = [9, 11]'),\n",
              " Text(56.7905325443787, 115.515, 'X[4] <= 52.827\\ngini = 0.498\\nsamples = 15\\nvalue = [8, 7]'),\n",
              " Text(50.186982248520714, 101.925, 'X[1] <= 34.0\\ngini = 0.375\\nsamples = 4\\nvalue = [1, 3]'),\n",
              " Text(47.545562130177515, 88.33500000000001, 'gini = 0.0\\nsamples = 1\\nvalue = [1, 0]'),\n",
              " Text(52.828402366863905, 88.33500000000001, 'gini = 0.0\\nsamples = 3\\nvalue = [0, 3]'),\n",
              " Text(63.39408284023669, 101.925, 'X[4] <= 86.737\\ngini = 0.463\\nsamples = 11\\nvalue = [7, 4]'),\n",
              " Text(58.111242603550295, 88.33500000000001, 'X[1] <= 33.5\\ngini = 0.278\\nsamples = 6\\nvalue = [5, 1]'),\n",
              " Text(55.469822485207104, 74.745, 'gini = 0.0\\nsamples = 1\\nvalue = [0, 1]'),\n",
              " Text(60.75266272189349, 74.745, 'gini = 0.0\\nsamples = 5\\nvalue = [5, 0]'),\n",
              " Text(68.67692307692307, 88.33500000000001, 'X[1] <= 41.0\\ngini = 0.48\\nsamples = 5\\nvalue = [2, 3]'),\n",
              " Text(66.03550295857988, 74.745, 'gini = 0.0\\nsamples = 2\\nvalue = [0, 2]'),\n",
              " Text(71.31834319526628, 74.745, 'X[2] <= 2.0\\ngini = 0.444\\nsamples = 3\\nvalue = [2, 1]'),\n",
              " Text(68.67692307692307, 61.155, 'X[1] <= 47.0\\ngini = 0.5\\nsamples = 2\\nvalue = [1, 1]'),\n",
              " Text(66.03550295857988, 47.565, 'gini = 0.0\\nsamples = 1\\nvalue = [1, 0]'),\n",
              " Text(71.31834319526628, 47.565, 'gini = 0.0\\nsamples = 1\\nvalue = [0, 1]'),\n",
              " Text(73.95976331360947, 61.155, 'gini = 0.0\\nsamples = 1\\nvalue = [1, 0]'),\n",
              " Text(71.31834319526628, 115.515, 'X[4] <= 99.994\\ngini = 0.32\\nsamples = 5\\nvalue = [1, 4]'),\n",
              " Text(68.67692307692307, 101.925, 'gini = 0.0\\nsamples = 4\\nvalue = [0, 4]'),\n",
              " Text(73.95976331360947, 101.925, 'gini = 0.0\\nsamples = 1\\nvalue = [1, 0]'),\n",
              " Text(97.93890532544378, 183.465, 'X[1] <= 13.0\\ngini = 0.216\\nsamples = 324\\nvalue = [284, 40]'),\n",
              " Text(66.69585798816568, 169.875, 'X[3] <= 2.5\\ngini = 0.49\\nsamples = 21\\nvalue = [9, 12]'),\n",
              " Text(64.0544378698225, 156.285, 'gini = 0.0\\nsamples = 11\\nvalue = [0, 11]'),\n",
              " Text(69.33727810650888, 156.285, 'X[2] <= 1.5\\ngini = 0.18\\nsamples = 10\\nvalue = [9, 1]'),\n",
              " Text(66.69585798816568, 142.695, 'gini = 0.0\\nsamples = 6\\nvalue = [6, 0]'),\n",
              " Text(71.97869822485207, 142.695, 'X[1] <= 3.5\\ngini = 0.375\\nsamples = 4\\nvalue = [3, 1]'),\n",
              " Text(69.33727810650888, 129.10500000000002, 'gini = 0.0\\nsamples = 1\\nvalue = [0, 1]'),\n",
              " Text(74.62011834319527, 129.10500000000002, 'gini = 0.0\\nsamples = 3\\nvalue = [3, 0]'),\n",
              " Text(129.1819526627219, 169.875, 'X[4] <= 7.746\\ngini = 0.168\\nsamples = 303\\nvalue = [275, 28]'),\n",
              " Text(79.90295857988166, 156.285, 'X[1] <= 26.0\\ngini = 0.064\\nsamples = 60\\nvalue = [58, 2]'),\n",
              " Text(77.26153846153846, 142.695, 'gini = 0.0\\nsamples = 24\\nvalue = [24, 0]'),\n",
              " Text(82.54437869822486, 142.695, 'X[1] <= 27.75\\ngini = 0.105\\nsamples = 36\\nvalue = [34, 2]'),\n",
              " Text(79.90295857988166, 129.10500000000002, 'gini = 0.0\\nsamples = 1\\nvalue = [0, 1]'),\n",
              " Text(85.18579881656805, 129.10500000000002, 'X[7] <= 0.5\\ngini = 0.056\\nsamples = 35\\nvalue = [34, 1]'),\n",
              " Text(82.54437869822486, 115.515, 'gini = 0.0\\nsamples = 24\\nvalue = [24, 0]'),\n",
              " Text(87.82721893491124, 115.515, 'X[4] <= 7.227\\ngini = 0.165\\nsamples = 11\\nvalue = [10, 1]'),\n",
              " Text(85.18579881656805, 101.925, 'gini = 0.0\\nsamples = 4\\nvalue = [4, 0]'),\n",
              " Text(90.46863905325444, 101.925, 'X[1] <= 29.1\\ngini = 0.245\\nsamples = 7\\nvalue = [6, 1]'),\n",
              " Text(87.82721893491124, 88.33500000000001, 'gini = 0.0\\nsamples = 1\\nvalue = [1, 0]'),\n",
              " Text(93.11005917159764, 88.33500000000001, 'X[1] <= 29.85\\ngini = 0.278\\nsamples = 6\\nvalue = [5, 1]'),\n",
              " Text(90.46863905325444, 74.745, 'gini = 0.32\\nsamples = 5\\nvalue = [4, 1]'),\n",
              " Text(95.75147928994083, 74.745, 'gini = 0.0\\nsamples = 1\\nvalue = [1, 0]'),\n",
              " Text(178.46094674556213, 156.285, 'X[7] <= 0.5\\ngini = 0.191\\nsamples = 243\\nvalue = [217, 26]'),\n",
              " Text(144.94792899408284, 142.695, 'X[4] <= 7.798\\ngini = 0.17\\nsamples = 224\\nvalue = [203, 21]'),\n",
              " Text(112.9207100591716, 129.10500000000002, 'X[1] <= 29.35\\ngini = 0.355\\nsamples = 26\\nvalue = [20, 6]'),\n",
              " Text(103.67573964497042, 115.515, 'X[1] <= 26.0\\ngini = 0.48\\nsamples = 10\\nvalue = [6, 4]'),\n",
              " Text(101.03431952662723, 101.925, 'X[1] <= 19.5\\ngini = 0.375\\nsamples = 8\\nvalue = [6, 2]'),\n",
              " Text(98.39289940828402, 88.33500000000001, 'gini = 0.0\\nsamples = 2\\nvalue = [2, 0]'),\n",
              " Text(103.67573964497042, 88.33500000000001, 'X[3] <= 0.5\\ngini = 0.444\\nsamples = 6\\nvalue = [4, 2]'),\n",
              " Text(101.03431952662723, 74.745, 'X[1] <= 21.5\\ngini = 0.375\\nsamples = 4\\nvalue = [3, 1]'),\n",
              " Text(98.39289940828402, 61.155, 'X[4] <= 7.785\\ngini = 0.5\\nsamples = 2\\nvalue = [1, 1]'),\n",
              " Text(95.75147928994083, 47.565, 'gini = 0.0\\nsamples = 1\\nvalue = [1, 0]'),\n",
              " Text(101.03431952662723, 47.565, 'gini = 0.0\\nsamples = 1\\nvalue = [0, 1]'),\n",
              " Text(103.67573964497042, 61.155, 'gini = 0.0\\nsamples = 2\\nvalue = [2, 0]'),\n",
              " Text(106.31715976331361, 74.745, 'gini = 0.5\\nsamples = 2\\nvalue = [1, 1]'),\n",
              " Text(106.31715976331361, 101.925, 'gini = 0.0\\nsamples = 2\\nvalue = [0, 2]'),\n",
              " Text(122.16568047337279, 115.515, 'X[4] <= 7.763\\ngini = 0.219\\nsamples = 16\\nvalue = [14, 2]'),\n",
              " Text(116.88284023668639, 101.925, 'X[1] <= 30.35\\ngini = 0.133\\nsamples = 14\\nvalue = [13, 1]'),\n",
              " Text(114.2414201183432, 88.33500000000001, 'X[3] <= 0.5\\ngini = 0.198\\nsamples = 9\\nvalue = [8, 1]'),\n",
              " Text(111.60000000000001, 74.745, 'gini = 0.219\\nsamples = 8\\nvalue = [7, 1]'),\n",
              " Text(116.88284023668639, 74.745, 'gini = 0.0\\nsamples = 1\\nvalue = [1, 0]'),\n",
              " Text(119.52426035502958, 88.33500000000001, 'gini = 0.0\\nsamples = 5\\nvalue = [5, 0]'),\n",
              " Text(127.44852071005917, 101.925, 'X[1] <= 30.35\\ngini = 0.5\\nsamples = 2\\nvalue = [1, 1]'),\n",
              " Text(124.80710059171598, 88.33500000000001, 'gini = 0.0\\nsamples = 1\\nvalue = [0, 1]'),\n",
              " Text(130.08994082840238, 88.33500000000001, 'gini = 0.0\\nsamples = 1\\nvalue = [1, 0]'),\n",
              " Text(176.9751479289941, 129.10500000000002, 'X[1] <= 61.0\\ngini = 0.14\\nsamples = 198\\nvalue = [183, 15]'),\n",
              " Text(164.4284023668639, 115.515, 'X[1] <= 30.75\\ngini = 0.133\\nsamples = 196\\nvalue = [182, 14]'),\n",
              " Text(147.25917159763313, 101.925, 'X[4] <= 51.698\\ngini = 0.088\\nsamples = 130\\nvalue = [124, 6]'),\n",
              " Text(135.37278106508876, 88.33500000000001, 'X[1] <= 20.5\\ngini = 0.064\\nsamples = 121\\nvalue = [117, 4]'),\n",
              " Text(124.80710059171598, 74.745, 'X[4] <= 8.175\\ngini = 0.161\\nsamples = 34\\nvalue = [31, 3]'),\n",
              " Text(116.88284023668639, 61.155, 'X[4] <= 7.91\\ngini = 0.32\\nsamples = 10\\nvalue = [8, 2]'),\n",
              " Text(114.2414201183432, 47.565, 'gini = 0.0\\nsamples = 5\\nvalue = [5, 0]'),\n",
              " Text(119.52426035502958, 47.565, 'X[3] <= 0.5\\ngini = 0.48\\nsamples = 5\\nvalue = [3, 2]'),\n",
              " Text(116.88284023668639, 33.974999999999994, 'X[1] <= 19.0\\ngini = 0.375\\nsamples = 4\\nvalue = [3, 1]'),\n",
              " Text(114.2414201183432, 20.38499999999999, 'X[1] <= 17.0\\ngini = 0.5\\nsamples = 2\\nvalue = [1, 1]'),\n",
              " Text(111.60000000000001, 6.7949999999999875, 'gini = 0.0\\nsamples = 1\\nvalue = [1, 0]'),\n",
              " Text(116.88284023668639, 6.7949999999999875, 'gini = 0.0\\nsamples = 1\\nvalue = [0, 1]'),\n",
              " Text(119.52426035502958, 20.38499999999999, 'gini = 0.0\\nsamples = 2\\nvalue = [2, 0]'),\n",
              " Text(122.16568047337279, 33.974999999999994, 'gini = 0.0\\nsamples = 1\\nvalue = [0, 1]'),\n",
              " Text(132.73136094674555, 61.155, 'X[0] <= 2.5\\ngini = 0.08\\nsamples = 24\\nvalue = [23, 1]'),\n",
              " Text(130.08994082840238, 47.565, 'X[4] <= 11.0\\ngini = 0.219\\nsamples = 8\\nvalue = [7, 1]'),\n",
              " Text(127.44852071005917, 33.974999999999994, 'X[1] <= 17.5\\ngini = 0.5\\nsamples = 2\\nvalue = [1, 1]'),\n",
              " Text(124.80710059171598, 20.38499999999999, 'gini = 0.0\\nsamples = 1\\nvalue = [1, 0]'),\n",
              " Text(130.08994082840238, 20.38499999999999, 'gini = 0.0\\nsamples = 1\\nvalue = [0, 1]'),\n",
              " Text(132.73136094674555, 33.974999999999994, 'gini = 0.0\\nsamples = 6\\nvalue = [6, 0]'),\n",
              " Text(135.37278106508876, 47.565, 'gini = 0.0\\nsamples = 16\\nvalue = [16, 0]'),\n",
              " Text(145.93846153846155, 74.745, 'X[1] <= 27.5\\ngini = 0.023\\nsamples = 87\\nvalue = [86, 1]'),\n",
              " Text(143.29704142011835, 61.155, 'X[1] <= 26.5\\ngini = 0.057\\nsamples = 34\\nvalue = [33, 1]'),\n",
              " Text(140.65562130177514, 47.565, 'gini = 0.0\\nsamples = 30\\nvalue = [30, 0]'),\n",
              " Text(145.93846153846155, 47.565, 'X[0] <= 2.5\\ngini = 0.375\\nsamples = 4\\nvalue = [3, 1]'),\n",
              " Text(143.29704142011835, 33.974999999999994, 'gini = 0.0\\nsamples = 3\\nvalue = [3, 0]'),\n",
              " Text(148.57988165680473, 33.974999999999994, 'gini = 0.0\\nsamples = 1\\nvalue = [0, 1]'),\n",
              " Text(148.57988165680473, 61.155, 'gini = 0.0\\nsamples = 53\\nvalue = [53, 0]'),\n",
              " Text(159.14556213017752, 88.33500000000001, 'X[4] <= 63.023\\ngini = 0.346\\nsamples = 9\\nvalue = [7, 2]'),\n",
              " Text(156.50414201183432, 74.745, 'X[1] <= 28.85\\ngini = 0.5\\nsamples = 4\\nvalue = [2, 2]'),\n",
              " Text(153.86272189349114, 61.155, 'gini = 0.0\\nsamples = 1\\nvalue = [1, 0]'),\n",
              " Text(159.14556213017752, 61.155, 'gini = 0.444\\nsamples = 3\\nvalue = [1, 2]'),\n",
              " Text(161.7869822485207, 74.745, 'gini = 0.0\\nsamples = 5\\nvalue = [5, 0]'),\n",
              " Text(181.5976331360947, 101.925, 'X[1] <= 32.5\\ngini = 0.213\\nsamples = 66\\nvalue = [58, 8]'),\n",
              " Text(169.7112426035503, 88.33500000000001, 'X[4] <= 7.89\\ngini = 0.463\\nsamples = 11\\nvalue = [7, 4]'),\n",
              " Text(167.0698224852071, 74.745, 'gini = 0.0\\nsamples = 1\\nvalue = [0, 1]'),\n",
              " Text(172.3526627218935, 74.745, 'X[4] <= 7.988\\ngini = 0.42\\nsamples = 10\\nvalue = [7, 3]'),\n",
              " Text(169.7112426035503, 61.155, 'gini = 0.0\\nsamples = 2\\nvalue = [2, 0]'),\n",
              " Text(174.9940828402367, 61.155, 'X[4] <= 8.206\\ngini = 0.469\\nsamples = 8\\nvalue = [5, 3]'),\n",
              " Text(172.3526627218935, 47.565, 'gini = 0.0\\nsamples = 1\\nvalue = [0, 1]'),\n",
              " Text(177.63550295857988, 47.565, 'X[0] <= 2.5\\ngini = 0.408\\nsamples = 7\\nvalue = [5, 2]'),\n",
              " Text(174.9940828402367, 33.974999999999994, 'X[4] <= 26.125\\ngini = 0.48\\nsamples = 5\\nvalue = [3, 2]'),\n",
              " Text(172.3526627218935, 20.38499999999999, 'X[4] <= 11.75\\ngini = 0.444\\nsamples = 3\\nvalue = [1, 2]'),\n",
              " Text(169.7112426035503, 6.7949999999999875, 'gini = 0.0\\nsamples = 1\\nvalue = [1, 0]'),\n",
              " Text(174.9940828402367, 6.7949999999999875, 'gini = 0.0\\nsamples = 2\\nvalue = [0, 2]'),\n",
              " Text(177.63550295857988, 20.38499999999999, 'gini = 0.0\\nsamples = 2\\nvalue = [2, 0]'),\n",
              " Text(180.27692307692308, 33.974999999999994, 'gini = 0.0\\nsamples = 2\\nvalue = [2, 0]'),\n",
              " Text(193.48402366863905, 88.33500000000001, 'X[4] <= 8.227\\ngini = 0.135\\nsamples = 55\\nvalue = [51, 4]'),\n",
              " Text(188.20118343195267, 74.745, 'X[1] <= 37.5\\ngini = 0.375\\nsamples = 12\\nvalue = [9, 3]'),\n",
              " Text(185.55976331360947, 61.155, 'gini = 0.0\\nsamples = 4\\nvalue = [4, 0]'),\n",
              " Text(190.84260355029588, 61.155, 'X[1] <= 46.5\\ngini = 0.469\\nsamples = 8\\nvalue = [5, 3]'),\n",
              " Text(188.20118343195267, 47.565, 'X[1] <= 42.0\\ngini = 0.48\\nsamples = 5\\nvalue = [2, 3]'),\n",
              " Text(185.55976331360947, 33.974999999999994, 'X[4] <= 7.91\\ngini = 0.444\\nsamples = 3\\nvalue = [2, 1]'),\n",
              " Text(182.9183431952663, 20.38499999999999, 'gini = 0.0\\nsamples = 1\\nvalue = [1, 0]'),\n",
              " Text(188.20118343195267, 20.38499999999999, 'gini = 0.5\\nsamples = 2\\nvalue = [1, 1]'),\n",
              " Text(190.84260355029588, 33.974999999999994, 'gini = 0.0\\nsamples = 2\\nvalue = [0, 2]'),\n",
              " Text(193.48402366863905, 47.565, 'gini = 0.0\\nsamples = 3\\nvalue = [3, 0]'),\n",
              " Text(198.76686390532544, 74.745, 'X[1] <= 41.5\\ngini = 0.045\\nsamples = 43\\nvalue = [42, 1]'),\n",
              " Text(196.12544378698226, 61.155, 'gini = 0.0\\nsamples = 25\\nvalue = [25, 0]'),\n",
              " Text(201.40828402366864, 61.155, 'X[1] <= 42.5\\ngini = 0.105\\nsamples = 18\\nvalue = [17, 1]'),\n",
              " Text(198.76686390532544, 47.565, 'X[0] <= 2.5\\ngini = 0.32\\nsamples = 5\\nvalue = [4, 1]'),\n",
              " Text(196.12544378698226, 33.974999999999994, 'X[3] <= 0.5\\ngini = 0.444\\nsamples = 3\\nvalue = [2, 1]'),\n",
              " Text(193.48402366863905, 20.38499999999999, 'gini = 0.5\\nsamples = 2\\nvalue = [1, 1]'),\n",
              " Text(198.76686390532544, 20.38499999999999, 'gini = 0.0\\nsamples = 1\\nvalue = [1, 0]'),\n",
              " Text(201.40828402366864, 33.974999999999994, 'gini = 0.0\\nsamples = 2\\nvalue = [2, 0]'),\n",
              " Text(204.04970414201185, 47.565, 'gini = 0.0\\nsamples = 13\\nvalue = [13, 0]'),\n",
              " Text(189.52189349112427, 115.515, 'X[1] <= 66.0\\ngini = 0.5\\nsamples = 2\\nvalue = [1, 1]'),\n",
              " Text(186.88047337278107, 101.925, 'gini = 0.0\\nsamples = 1\\nvalue = [0, 1]'),\n",
              " Text(192.16331360946745, 101.925, 'gini = 0.0\\nsamples = 1\\nvalue = [1, 0]'),\n",
              " Text(211.97396449704144, 142.695, 'X[2] <= 0.5\\ngini = 0.388\\nsamples = 19\\nvalue = [14, 5]'),\n",
              " Text(205.37041420118345, 129.10500000000002, 'X[1] <= 26.5\\ngini = 0.231\\nsamples = 15\\nvalue = [13, 2]'),\n",
              " Text(200.08757396449704, 115.515, 'X[4] <= 16.621\\ngini = 0.5\\nsamples = 2\\nvalue = [1, 1]'),\n",
              " Text(197.44615384615386, 101.925, 'gini = 0.0\\nsamples = 1\\nvalue = [1, 0]'),\n",
              " Text(202.72899408284025, 101.925, 'gini = 0.0\\nsamples = 1\\nvalue = [0, 1]'),\n",
              " Text(210.65325443786983, 115.515, 'X[0] <= 2.5\\ngini = 0.142\\nsamples = 13\\nvalue = [12, 1]'),\n",
              " Text(208.01183431952663, 101.925, 'X[4] <= 14.456\\ngini = 0.32\\nsamples = 5\\nvalue = [4, 1]'),\n",
              " Text(205.37041420118345, 88.33500000000001, 'gini = 0.0\\nsamples = 1\\nvalue = [0, 1]'),\n",
              " Text(210.65325443786983, 88.33500000000001, 'gini = 0.0\\nsamples = 4\\nvalue = [4, 0]'),\n",
              " Text(213.294674556213, 101.925, 'gini = 0.0\\nsamples = 8\\nvalue = [8, 0]'),\n",
              " Text(218.57751479289942, 129.10500000000002, 'X[1] <= 30.35\\ngini = 0.375\\nsamples = 4\\nvalue = [1, 3]'),\n",
              " Text(215.93609467455622, 115.515, 'gini = 0.0\\nsamples = 3\\nvalue = [0, 3]'),\n",
              " Text(221.2189349112426, 115.515, 'gini = 0.0\\nsamples = 1\\nvalue = [1, 0]'),\n",
              " Text(264.14201183431953, 197.055, 'X[0] <= 2.5\\ngini = 0.386\\nsamples = 222\\nvalue = [58, 164]'),\n",
              " Text(236.407100591716, 183.465, 'X[1] <= 4.0\\ngini = 0.096\\nsamples = 119\\nvalue = [6, 113]'),\n",
              " Text(229.1431952662722, 169.875, 'X[0] <= 1.5\\ngini = 0.5\\nsamples = 2\\nvalue = [1, 1]'),\n",
              " Text(226.501775147929, 156.285, 'gini = 0.0\\nsamples = 1\\nvalue = [1, 0]'),\n",
              " Text(231.7846153846154, 156.285, 'gini = 0.0\\nsamples = 1\\nvalue = [0, 1]'),\n",
              " Text(243.67100591715976, 169.875, 'X[4] <= 22.0\\ngini = 0.082\\nsamples = 117\\nvalue = [5, 112]'),\n",
              " Text(237.06745562130178, 156.285, 'X[1] <= 56.0\\ngini = 0.231\\nsamples = 30\\nvalue = [4, 26]'),\n",
              " Text(234.4260355029586, 142.695, 'X[4] <= 20.25\\ngini = 0.185\\nsamples = 29\\nvalue = [3, 26]'),\n",
              " Text(229.1431952662722, 129.10500000000002, 'X[4] <= 13.25\\ngini = 0.137\\nsamples = 27\\nvalue = [2, 25]'),\n",
              " Text(226.501775147929, 115.515, 'X[4] <= 12.825\\ngini = 0.198\\nsamples = 18\\nvalue = [2, 16]'),\n",
              " Text(223.8603550295858, 101.925, 'gini = 0.0\\nsamples = 8\\nvalue = [0, 8]'),\n",
              " Text(229.1431952662722, 101.925, 'X[1] <= 37.0\\ngini = 0.32\\nsamples = 10\\nvalue = [2, 8]'),\n",
              " Text(223.8603550295858, 88.33500000000001, 'X[1] <= 26.0\\ngini = 0.219\\nsamples = 8\\nvalue = [1, 7]'),\n",
              " Text(221.2189349112426, 74.745, 'X[2] <= 1.0\\ngini = 0.444\\nsamples = 3\\nvalue = [1, 2]'),\n",
              " Text(218.57751479289942, 61.155, 'gini = 0.5\\nsamples = 2\\nvalue = [1, 1]'),\n",
              " Text(223.8603550295858, 61.155, 'gini = 0.0\\nsamples = 1\\nvalue = [0, 1]'),\n",
              " Text(226.501775147929, 74.745, 'gini = 0.0\\nsamples = 5\\nvalue = [0, 5]'),\n",
              " Text(234.4260355029586, 88.33500000000001, 'X[1] <= 39.0\\ngini = 0.5\\nsamples = 2\\nvalue = [1, 1]'),\n",
              " Text(231.7846153846154, 74.745, 'gini = 0.0\\nsamples = 1\\nvalue = [1, 0]'),\n",
              " Text(237.06745562130178, 74.745, 'gini = 0.0\\nsamples = 1\\nvalue = [0, 1]'),\n",
              " Text(231.7846153846154, 115.515, 'gini = 0.0\\nsamples = 9\\nvalue = [0, 9]'),\n",
              " Text(239.70887573964498, 129.10500000000002, 'X[3] <= 2.0\\ngini = 0.5\\nsamples = 2\\nvalue = [1, 1]'),\n",
              " Text(237.06745562130178, 115.515, 'gini = 0.0\\nsamples = 1\\nvalue = [1, 0]'),\n",
              " Text(242.3502958579882, 115.515, 'gini = 0.0\\nsamples = 1\\nvalue = [0, 1]'),\n",
              " Text(239.70887573964498, 142.695, 'gini = 0.0\\nsamples = 1\\nvalue = [1, 0]'),\n",
              " Text(250.27455621301775, 156.285, 'X[1] <= 49.5\\ngini = 0.023\\nsamples = 87\\nvalue = [1, 86]'),\n",
              " Text(247.63313609467457, 142.695, 'gini = 0.0\\nsamples = 73\\nvalue = [0, 73]'),\n",
              " Text(252.91597633136095, 142.695, 'X[1] <= 50.5\\ngini = 0.133\\nsamples = 14\\nvalue = [1, 13]'),\n",
              " Text(250.27455621301775, 129.10500000000002, 'X[9] <= 0.5\\ngini = 0.5\\nsamples = 2\\nvalue = [1, 1]'),\n",
              " Text(247.63313609467457, 115.515, 'gini = 0.0\\nsamples = 1\\nvalue = [1, 0]'),\n",
              " Text(252.91597633136095, 115.515, 'gini = 0.0\\nsamples = 1\\nvalue = [0, 1]'),\n",
              " Text(255.55739644970416, 129.10500000000002, 'gini = 0.0\\nsamples = 12\\nvalue = [0, 12]'),\n",
              " Text(291.8769230769231, 183.465, 'X[9] <= 0.5\\ngini = 0.5\\nsamples = 103\\nvalue = [52, 51]'),\n",
              " Text(274.0473372781065, 169.875, 'X[1] <= 30.85\\ngini = 0.422\\nsamples = 43\\nvalue = [13, 30]'),\n",
              " Text(271.4059171597633, 156.285, 'X[4] <= 15.373\\ngini = 0.393\\nsamples = 41\\nvalue = [11, 30]'),\n",
              " Text(268.7644970414201, 142.695, 'X[4] <= 13.935\\ngini = 0.444\\nsamples = 33\\nvalue = [11, 22]'),\n",
              " Text(260.84023668639054, 129.10500000000002, 'X[2] <= 1.5\\ngini = 0.32\\nsamples = 25\\nvalue = [5, 20]'),\n",
              " Text(258.19881656804733, 115.515, 'X[4] <= 6.987\\ngini = 0.278\\nsamples = 24\\nvalue = [4, 20]'),\n",
              " Text(255.55739644970416, 101.925, 'gini = 0.0\\nsamples = 1\\nvalue = [1, 0]'),\n",
              " Text(260.84023668639054, 101.925, 'X[4] <= 7.769\\ngini = 0.227\\nsamples = 23\\nvalue = [3, 20]'),\n",
              " Text(258.19881656804733, 88.33500000000001, 'X[7] <= 0.5\\ngini = 0.32\\nsamples = 15\\nvalue = [3, 12]'),\n",
              " Text(255.55739644970416, 74.745, 'X[1] <= 25.35\\ngini = 0.397\\nsamples = 11\\nvalue = [3, 8]'),\n",
              " Text(252.91597633136095, 61.155, 'gini = 0.0\\nsamples = 1\\nvalue = [1, 0]'),\n",
              " Text(258.19881656804733, 61.155, 'X[4] <= 7.681\\ngini = 0.32\\nsamples = 10\\nvalue = [2, 8]'),\n",
              " Text(255.55739644970416, 47.565, 'gini = 0.0\\nsamples = 1\\nvalue = [1, 0]'),\n",
              " Text(260.84023668639054, 47.565, 'X[4] <= 7.744\\ngini = 0.198\\nsamples = 9\\nvalue = [1, 8]'),\n",
              " Text(258.19881656804733, 33.974999999999994, 'gini = 0.0\\nsamples = 2\\nvalue = [0, 2]'),\n",
              " Text(263.48165680473375, 33.974999999999994, 'gini = 0.245\\nsamples = 7\\nvalue = [1, 6]'),\n",
              " Text(260.84023668639054, 74.745, 'gini = 0.0\\nsamples = 4\\nvalue = [0, 4]'),\n",
              " Text(263.48165680473375, 88.33500000000001, 'gini = 0.0\\nsamples = 8\\nvalue = [0, 8]'),\n",
              " Text(263.48165680473375, 115.515, 'gini = 0.0\\nsamples = 1\\nvalue = [1, 0]'),\n",
              " Text(276.6887573964497, 129.10500000000002, 'X[2] <= 1.5\\ngini = 0.375\\nsamples = 8\\nvalue = [6, 2]'),\n",
              " Text(274.0473372781065, 115.515, 'X[1] <= 16.0\\ngini = 0.245\\nsamples = 7\\nvalue = [6, 1]'),\n",
              " Text(271.4059171597633, 101.925, 'X[1] <= 14.75\\ngini = 0.444\\nsamples = 3\\nvalue = [2, 1]'),\n",
              " Text(268.7644970414201, 88.33500000000001, 'gini = 0.0\\nsamples = 2\\nvalue = [2, 0]'),\n",
              " Text(274.0473372781065, 88.33500000000001, 'gini = 0.0\\nsamples = 1\\nvalue = [0, 1]'),\n",
              " Text(276.6887573964497, 101.925, 'gini = 0.0\\nsamples = 4\\nvalue = [4, 0]'),\n",
              " Text(279.3301775147929, 115.515, 'gini = 0.0\\nsamples = 1\\nvalue = [0, 1]'),\n",
              " Text(274.0473372781065, 142.695, 'gini = 0.0\\nsamples = 8\\nvalue = [0, 8]'),\n",
              " Text(276.6887573964497, 156.285, 'gini = 0.0\\nsamples = 2\\nvalue = [2, 0]'),\n",
              " Text(309.70650887573964, 169.875, 'X[4] <= 17.25\\ngini = 0.455\\nsamples = 60\\nvalue = [39, 21]'),\n",
              " Text(297.82011834319525, 156.285, 'X[4] <= 10.798\\ngini = 0.5\\nsamples = 37\\nvalue = [19, 18]'),\n",
              " Text(289.8958579881657, 142.695, 'X[4] <= 7.623\\ngini = 0.403\\nsamples = 25\\nvalue = [18, 7]'),\n",
              " Text(287.2544378698225, 129.10500000000002, 'gini = 0.0\\nsamples = 2\\nvalue = [0, 2]'),\n",
              " Text(292.5372781065089, 129.10500000000002, 'X[1] <= 19.5\\ngini = 0.34\\nsamples = 23\\nvalue = [18, 5]'),\n",
              " Text(284.6130177514793, 115.515, 'X[1] <= 16.0\\ngini = 0.5\\nsamples = 6\\nvalue = [3, 3]'),\n",
              " Text(281.9715976331361, 101.925, 'gini = 0.0\\nsamples = 2\\nvalue = [2, 0]'),\n",
              " Text(287.2544378698225, 101.925, 'X[4] <= 7.815\\ngini = 0.375\\nsamples = 4\\nvalue = [1, 3]'),\n",
              " Text(284.6130177514793, 88.33500000000001, 'gini = 0.0\\nsamples = 1\\nvalue = [1, 0]'),\n",
              " Text(289.8958579881657, 88.33500000000001, 'gini = 0.0\\nsamples = 3\\nvalue = [0, 3]'),\n",
              " Text(300.46153846153845, 115.515, 'X[1] <= 54.0\\ngini = 0.208\\nsamples = 17\\nvalue = [15, 2]'),\n",
              " Text(297.82011834319525, 101.925, 'X[4] <= 7.988\\ngini = 0.117\\nsamples = 16\\nvalue = [15, 1]'),\n",
              " Text(295.1786982248521, 88.33500000000001, 'X[1] <= 27.5\\ngini = 0.278\\nsamples = 6\\nvalue = [5, 1]'),\n",
              " Text(292.5372781065089, 74.745, 'X[1] <= 26.0\\ngini = 0.444\\nsamples = 3\\nvalue = [2, 1]'),\n",
              " Text(289.8958579881657, 61.155, 'gini = 0.0\\nsamples = 2\\nvalue = [2, 0]'),\n",
              " Text(295.1786982248521, 61.155, 'gini = 0.0\\nsamples = 1\\nvalue = [0, 1]'),\n",
              " Text(297.82011834319525, 74.745, 'gini = 0.0\\nsamples = 3\\nvalue = [3, 0]'),\n",
              " Text(300.46153846153845, 88.33500000000001, 'gini = 0.0\\nsamples = 10\\nvalue = [10, 0]'),\n",
              " Text(303.10295857988166, 101.925, 'gini = 0.0\\nsamples = 1\\nvalue = [0, 1]'),\n",
              " Text(305.74437869822486, 142.695, 'X[1] <= 27.5\\ngini = 0.153\\nsamples = 12\\nvalue = [1, 11]'),\n",
              " Text(303.10295857988166, 129.10500000000002, 'gini = 0.0\\nsamples = 7\\nvalue = [0, 7]'),\n",
              " Text(308.38579881656807, 129.10500000000002, 'X[1] <= 28.85\\ngini = 0.32\\nsamples = 5\\nvalue = [1, 4]'),\n",
              " Text(305.74437869822486, 115.515, 'gini = 0.0\\nsamples = 1\\nvalue = [1, 0]'),\n",
              " Text(311.0272189349113, 115.515, 'gini = 0.0\\nsamples = 4\\nvalue = [0, 4]'),\n",
              " Text(321.59289940828404, 156.285, 'X[1] <= 6.5\\ngini = 0.227\\nsamples = 23\\nvalue = [20, 3]'),\n",
              " Text(316.31005917159763, 142.695, 'X[1] <= 3.0\\ngini = 0.444\\nsamples = 3\\nvalue = [1, 2]'),\n",
              " Text(313.6686390532544, 129.10500000000002, 'gini = 0.0\\nsamples = 1\\nvalue = [1, 0]'),\n",
              " Text(318.95147928994083, 129.10500000000002, 'gini = 0.0\\nsamples = 2\\nvalue = [0, 2]'),\n",
              " Text(326.87573964497045, 142.695, 'X[2] <= 4.5\\ngini = 0.095\\nsamples = 20\\nvalue = [19, 1]'),\n",
              " Text(324.23431952662725, 129.10500000000002, 'gini = 0.0\\nsamples = 17\\nvalue = [17, 0]'),\n",
              " Text(329.5171597633136, 129.10500000000002, 'X[4] <= 35.538\\ngini = 0.444\\nsamples = 3\\nvalue = [2, 1]'),\n",
              " Text(326.87573964497045, 115.515, 'gini = 0.0\\nsamples = 1\\nvalue = [0, 1]'),\n",
              " Text(332.1585798816568, 115.515, 'gini = 0.0\\nsamples = 2\\nvalue = [2, 0]')]"
            ]
          },
          "metadata": {
            "tags": []
          },
          "execution_count": 42
        },
        {
          "output_type": "display_data",
          "data": {
            "image/png": "[encoded data removed]",
            "text/plain": [
              "<Figure size 432x288 with 1 Axes>"
            ]
          },
          "metadata": {
            "tags": [],
            "needs_background": "light"
          }
        }
      ]
    },
    {
      "cell_type": "code",
      "metadata": {
        "id": "UfHvS10vsHeb",
        "outputId": "f790f7c9-e15f-4165-f0bd-91ea03762f30",
        "colab": {
          "base_uri": "https://localhost:8080/",
          "height": 255
        }
      },
      "source": [
        "test_data = pd.read_csv('test.csv')\n",
        "print(test_data)"
      ],
      "execution_count": 43,
      "outputs": [
        {
          "output_type": "stream",
          "text": [
            "     PassengerId  Pclass  ... Cabin Embarked\n",
            "0            892       3  ...   NaN        Q\n",
            "1            893       3  ...   NaN        S\n",
            "2            894       2  ...   NaN        Q\n",
            "3            895       3  ...   NaN        S\n",
            "4            896       3  ...   NaN        S\n",
            "..           ...     ...  ...   ...      ...\n",
            "413         1305       3  ...   NaN        S\n",
            "414         1306       1  ...  C105        C\n",
            "415         1307       3  ...   NaN        S\n",
            "416         1308       3  ...   NaN        S\n",
            "417         1309       3  ...   NaN        C\n",
            "\n",
            "[418 rows x 11 columns]\n"
          ],
          "name": "stdout"
        }
      ]
    },
    {
      "cell_type": "code",
      "metadata": {
        "id": "0R20Kf7usOIb",
        "outputId": "ec196fb1-c3ff-4782-d394-0478a2cc1209",
        "colab": {
          "base_uri": "https://localhost:8080/",
          "height": 323
        }
      },
      "source": [
        "test_data.info()"
      ],
      "execution_count": 44,
      "outputs": [
        {
          "output_type": "stream",
          "text": [
            "<class 'pandas.core.frame.DataFrame'>\n",
            "RangeIndex: 418 entries, 0 to 417\n",
            "Data columns (total 11 columns):\n",
            " #   Column       Non-Null Count  Dtype  \n",
            "---  ------       --------------  -----  \n",
            " 0   PassengerId  418 non-null    int64  \n",
            " 1   Pclass       418 non-null    int64  \n",
            " 2   Name         418 non-null    object \n",
            " 3   Sex          418 non-null    object \n",
            " 4   Age          332 non-null    float64\n",
            " 5   SibSp        418 non-null    int64  \n",
            " 6   Parch        418 non-null    int64  \n",
            " 7   Ticket       418 non-null    object \n",
            " 8   Fare         417 non-null    float64\n",
            " 9   Cabin        91 non-null     object \n",
            " 10  Embarked     418 non-null    object \n",
            "dtypes: float64(2), int64(4), object(5)\n",
            "memory usage: 36.0+ KB\n"
          ],
          "name": "stdout"
        }
      ]
    },
    {
      "cell_type": "code",
      "metadata": {
        "id": "50KliI40smHv"
      },
      "source": [
        "test_data[\"Age\"] = test_data['Age'].fillna(test_data[\"Age\"].mean())\n",
        "test_data['Fare']= test_data['Fare'].fillna(test_data['Fare'].mean())"
      ],
      "execution_count": 46,
      "outputs": []
    },
    {
      "cell_type": "code",
      "metadata": {
        "id": "WLFAsxH9tYbM"
      },
      "source": [
        "test_data = test_data.drop([\"Cabin\"], axis = 1)"
      ],
      "execution_count": 49,
      "outputs": []
    },
    {
      "cell_type": "code",
      "metadata": {
        "id": "sRCrv77itbge",
        "outputId": "b4a30abc-10ec-499e-bfa6-b9490c20718a",
        "colab": {
          "base_uri": "https://localhost:8080/",
          "height": 255
        }
      },
      "source": [
        "print(test_data)"
      ],
      "execution_count": 50,
      "outputs": [
        {
          "output_type": "stream",
          "text": [
            "     PassengerId  Pclass  ...      Fare Embarked\n",
            "0            892       3  ...    7.8292        Q\n",
            "1            893       3  ...    7.0000        S\n",
            "2            894       2  ...    9.6875        Q\n",
            "3            895       3  ...    8.6625        S\n",
            "4            896       3  ...   12.2875        S\n",
            "..           ...     ...  ...       ...      ...\n",
            "413         1305       3  ...    8.0500        S\n",
            "414         1306       1  ...  108.9000        C\n",
            "415         1307       3  ...    7.2500        S\n",
            "416         1308       3  ...    8.0500        S\n",
            "417         1309       3  ...   22.3583        C\n",
            "\n",
            "[418 rows x 10 columns]\n"
          ],
          "name": "stdout"
        }
      ]
    },
    {
      "cell_type": "code",
      "metadata": {
        "id": "2IQamRYRuBWJ",
        "outputId": "16bc9435-c18c-492e-9fd4-9aa2d0949caf",
        "colab": {
          "base_uri": "https://localhost:8080/",
          "height": 306
        }
      },
      "source": [
        "test_data.info()"
      ],
      "execution_count": 51,
      "outputs": [
        {
          "output_type": "stream",
          "text": [
            "<class 'pandas.core.frame.DataFrame'>\n",
            "RangeIndex: 418 entries, 0 to 417\n",
            "Data columns (total 10 columns):\n",
            " #   Column       Non-Null Count  Dtype  \n",
            "---  ------       --------------  -----  \n",
            " 0   PassengerId  418 non-null    int64  \n",
            " 1   Pclass       418 non-null    int64  \n",
            " 2   Name         418 non-null    object \n",
            " 3   Sex          418 non-null    object \n",
            " 4   Age          418 non-null    float64\n",
            " 5   SibSp        418 non-null    int64  \n",
            " 6   Parch        418 non-null    int64  \n",
            " 7   Ticket       418 non-null    object \n",
            " 8   Fare         418 non-null    float64\n",
            " 9   Embarked     418 non-null    object \n",
            "dtypes: float64(2), int64(4), object(4)\n",
            "memory usage: 32.8+ KB\n"
          ],
          "name": "stdout"
        }
      ]
    },
    {
      "cell_type": "code",
      "metadata": {
        "id": "arbvk4ZfuHC_"
      },
      "source": [
        "test_data = pd.get_dummies(test_data, columns=['Sex'])\n",
        "test_data = pd.get_dummies(test_data, columns=['Embarked'])"
      ],
      "execution_count": 52,
      "outputs": []
    },
    {
      "cell_type": "code",
      "metadata": {
        "id": "5vd-zKLjum7q"
      },
      "source": [
        "test_data = test_data.drop(labels=['Name','Ticket'],axis='columns')"
      ],
      "execution_count": 53,
      "outputs": []
    },
    {
      "cell_type": "code",
      "metadata": {
        "id": "iyK-dmLfvFTF",
        "outputId": "217007de-f54e-4318-ce8f-94a189d71bca",
        "colab": {
          "base_uri": "https://localhost:8080/",
          "height": 255
        }
      },
      "source": [
        "print(test_data)"
      ],
      "execution_count": 54,
      "outputs": [
        {
          "output_type": "stream",
          "text": [
            "     PassengerId  Pclass       Age  ...  Embarked_C  Embarked_Q  Embarked_S\n",
            "0            892       3  34.50000  ...           0           1           0\n",
            "1            893       3  47.00000  ...           0           0           1\n",
            "2            894       2  62.00000  ...           0           1           0\n",
            "3            895       3  27.00000  ...           0           0           1\n",
            "4            896       3  22.00000  ...           0           0           1\n",
            "..           ...     ...       ...  ...         ...         ...         ...\n",
            "413         1305       3  30.27259  ...           0           0           1\n",
            "414         1306       1  39.00000  ...           1           0           0\n",
            "415         1307       3  38.50000  ...           0           0           1\n",
            "416         1308       3  30.27259  ...           0           0           1\n",
            "417         1309       3  30.27259  ...           1           0           0\n",
            "\n",
            "[418 rows x 11 columns]\n"
          ],
          "name": "stdout"
        }
      ]
    },
    {
      "cell_type": "code",
      "metadata": {
        "id": "Q_aAXUGsvJee",
        "outputId": "c79a48c8-09fc-4cbf-fc52-453d7943f03b",
        "colab": {
          "base_uri": "https://localhost:8080/",
          "height": 323
        }
      },
      "source": [
        "test_data.info()"
      ],
      "execution_count": 55,
      "outputs": [
        {
          "output_type": "stream",
          "text": [
            "<class 'pandas.core.frame.DataFrame'>\n",
            "RangeIndex: 418 entries, 0 to 417\n",
            "Data columns (total 11 columns):\n",
            " #   Column       Non-Null Count  Dtype  \n",
            "---  ------       --------------  -----  \n",
            " 0   PassengerId  418 non-null    int64  \n",
            " 1   Pclass       418 non-null    int64  \n",
            " 2   Age          418 non-null    float64\n",
            " 3   SibSp        418 non-null    int64  \n",
            " 4   Parch        418 non-null    int64  \n",
            " 5   Fare         418 non-null    float64\n",
            " 6   Sex_female   418 non-null    uint8  \n",
            " 7   Sex_male     418 non-null    uint8  \n",
            " 8   Embarked_C   418 non-null    uint8  \n",
            " 9   Embarked_Q   418 non-null    uint8  \n",
            " 10  Embarked_S   418 non-null    uint8  \n",
            "dtypes: float64(2), int64(4), uint8(5)\n",
            "memory usage: 21.8 KB\n"
          ],
          "name": "stdout"
        }
      ]
    },
    {
      "cell_type": "code",
      "metadata": {
        "id": "5i0PhUdDvMVP"
      },
      "source": [
        "predictions = clf.predict(test_data[columns_selected])\n",
        "passId = test_data['PassengerId']"
      ],
      "execution_count": 58,
      "outputs": []
    },
    {
      "cell_type": "code",
      "metadata": {
        "id": "1_TrxIaJwNeP",
        "outputId": "4d8cea01-f726-4cf6-a36b-16162e46a39b",
        "colab": {
          "base_uri": "https://localhost:8080/",
          "height": 255
        }
      },
      "source": [
        "output = pd.DataFrame({ 'PassengerId' : passId, 'Survived': predictions })\n",
        "print(output)"
      ],
      "execution_count": 59,
      "outputs": [
        {
          "output_type": "stream",
          "text": [
            "     PassengerId  Survived\n",
            "0            892         0\n",
            "1            893         1\n",
            "2            894         1\n",
            "3            895         1\n",
            "4            896         1\n",
            "..           ...       ...\n",
            "413         1305         0\n",
            "414         1306         1\n",
            "415         1307         0\n",
            "416         1308         0\n",
            "417         1309         1\n",
            "\n",
            "[418 rows x 2 columns]\n"
          ],
          "name": "stdout"
        }
      ]
    },
    {
      "cell_type": "code",
      "metadata": {
        "id": "ojLHCLLrwXY9"
      },
      "source": [
        "output.to_csv('result_1.csv')"
      ],
      "execution_count": 61,
      "outputs": []
    },
    {
      "cell_type": "code",
      "metadata": {
        "id": "U6JPWYZGxbcj",
        "outputId": "6b5c035a-0f51-4e95-cdb9-ba67b6a0ac99",
        "colab": {
          "base_uri": "https://localhost:8080/",
          "height": 17
        }
      },
      "source": [
        "files.download('result_1.csv')"
      ],
      "execution_count": 62,
      "outputs": [
        {
          "output_type": "display_data",
          "data": {
            "application/javascript": [
              "\n",
              "    async function download(id, filename, size) {\n",
              "      if (!google.colab.kernel.accessAllowed) {\n",
              "        return;\n",
              "      }\n",
              "      const div = document.createElement('div');\n",
              "      const label = document.createElement('label');\n",
              "      label.textContent = `Downloading \"${filename}\": `;\n",
              "      div.appendChild(label);\n",
              "      const progress = document.createElement('progress');\n",
              "      progress.max = size;\n",
              "      div.appendChild(progress);\n",
              "      document.body.appendChild(div);\n",
              "\n",
              "      const buffers = [];\n",
              "      let downloaded = 0;\n",
              "\n",
              "      const channel = await google.colab.kernel.comms.open(id);\n",
              "      // Send a message to notify the kernel that we're ready.\n",
              "      channel.send({})\n",
              "\n",
              "      for await (const message of channel.messages) {\n",
              "        // Send a message to notify the kernel that we're ready.\n",
              "        channel.send({})\n",
              "        if (message.buffers) {\n",
              "          for (const buffer of message.buffers) {\n",
              "            buffers.push(buffer);\n",
              "            downloaded += buffer.byteLength;\n",
              "            progress.value = downloaded;\n",
              "          }\n",
              "        }\n",
              "      }\n",
              "      const blob = new Blob(buffers, {type: 'application/binary'});\n",
              "      const a = document.createElement('a');\n",
              "      a.href = window.URL.createObjectURL(blob);\n",
              "      a.download = filename;\n",
              "      div.appendChild(a);\n",
              "      a.click();\n",
              "      div.remove();\n",
              "    }\n",
              "  "
            ],
            "text/plain": [
              "<IPython.core.display.Javascript object>"
            ]
          },
          "metadata": {
            "tags": []
          }
        },
        {
          "output_type": "display_data",
          "data": {
            "application/javascript": [
              "download(\"download_914370b1-5fcf-4ac8-8d81-6736fd331dab\", \"result_1.csv\", 4402)"
            ],
            "text/plain": [
              "<IPython.core.display.Javascript object>"
            ]
          },
          "metadata": {
            "tags": []
          }
        }
      ]
    },
    {
      "cell_type": "code",
      "metadata": {
        "id": "kAeDWHxjxzfr"
      },
      "source": [
        "from sklearn import svm\n",
        "clf = svm.SVC()"
      ],
      "execution_count": 63,
      "outputs": []
    },
    {
      "cell_type": "code",
      "metadata": {
        "id": "-ddkjTa7x4AJ",
        "outputId": "2b8599b0-ac38-4adc-80f4-7f9483276749",
        "colab": {
          "base_uri": "https://localhost:8080/",
          "height": 85
        }
      },
      "source": [
        "clf.fit(X_train,Y_train)"
      ],
      "execution_count": 64,
      "outputs": [
        {
          "output_type": "execute_result",
          "data": {
            "text/plain": [
              "SVC(C=1.0, break_ties=False, cache_size=200, class_weight=None, coef0=0.0,\n",
              "    decision_function_shape='ovr', degree=3, gamma='scale', kernel='rbf',\n",
              "    max_iter=-1, probability=False, random_state=None, shrinking=True,\n",
              "    tol=0.001, verbose=False)"
            ]
          },
          "metadata": {
            "tags": []
          },
          "execution_count": 64
        }
      ]
    },
    {
      "cell_type": "code",
      "metadata": {
        "id": "5gQJ3M5-yBj7"
      },
      "source": [
        "predictions_1 = clf.predict(test_data[columns_selected])"
      ],
      "execution_count": 65,
      "outputs": []
    },
    {
      "cell_type": "code",
      "metadata": {
        "id": "CBf7qBa5yZ40"
      },
      "source": [
        "output_2 = pd.DataFrame({ 'PassengerId' : passId, 'Survived': predictions_1 })"
      ],
      "execution_count": 66,
      "outputs": []
    },
    {
      "cell_type": "code",
      "metadata": {
        "id": "syTMbn5IyfFk",
        "outputId": "e70dde4a-a569-494b-b758-5ee7317f2c74",
        "colab": {
          "base_uri": "https://localhost:8080/",
          "height": 255
        }
      },
      "source": [
        "print(output_2)"
      ],
      "execution_count": 67,
      "outputs": [
        {
          "output_type": "stream",
          "text": [
            "     PassengerId  Survived\n",
            "0            892         0\n",
            "1            893         0\n",
            "2            894         0\n",
            "3            895         0\n",
            "4            896         0\n",
            "..           ...       ...\n",
            "413         1305         0\n",
            "414         1306         1\n",
            "415         1307         0\n",
            "416         1308         0\n",
            "417         1309         0\n",
            "\n",
            "[418 rows x 2 columns]\n"
          ],
          "name": "stdout"
        }
      ]
    },
    {
      "cell_type": "code",
      "metadata": {
        "id": "HnL252dYyii_"
      },
      "source": [
        "output_2.to_csv('result_2.csv')"
      ],
      "execution_count": 68,
      "outputs": []
    },
    {
      "cell_type": "code",
      "metadata": {
        "id": "O8Ti5Oxgyo4R",
        "outputId": "142634e3-627c-4e79-d2a0-d2fce4afaa6e",
        "colab": {
          "base_uri": "https://localhost:8080/",
          "height": 17
        }
      },
      "source": [
        "files.download('result_2.csv')"
      ],
      "execution_count": 70,
      "outputs": [
        {
          "output_type": "display_data",
          "data": {
            "application/javascript": [
              "\n",
              "    async function download(id, filename, size) {\n",
              "      if (!google.colab.kernel.accessAllowed) {\n",
              "        return;\n",
              "      }\n",
              "      const div = document.createElement('div');\n",
              "      const label = document.createElement('label');\n",
              "      label.textContent = `Downloading \"${filename}\": `;\n",
              "      div.appendChild(label);\n",
              "      const progress = document.createElement('progress');\n",
              "      progress.max = size;\n",
              "      div.appendChild(progress);\n",
              "      document.body.appendChild(div);\n",
              "\n",
              "      const buffers = [];\n",
              "      let downloaded = 0;\n",
              "\n",
              "      const channel = await google.colab.kernel.comms.open(id);\n",
              "      // Send a message to notify the kernel that we're ready.\n",
              "      channel.send({})\n",
              "\n",
              "      for await (const message of channel.messages) {\n",
              "        // Send a message to notify the kernel that we're ready.\n",
              "        channel.send({})\n",
              "        if (message.buffers) {\n",
              "          for (const buffer of message.buffers) {\n",
              "            buffers.push(buffer);\n",
              "            downloaded += buffer.byteLength;\n",
              "            progress.value = downloaded;\n",
              "          }\n",
              "        }\n",
              "      }\n",
              "      const blob = new Blob(buffers, {type: 'application/binary'});\n",
              "      const a = document.createElement('a');\n",
              "      a.href = window.URL.createObjectURL(blob);\n",
              "      a.download = filename;\n",
              "      div.appendChild(a);\n",
              "      a.click();\n",
              "      div.remove();\n",
              "    }\n",
              "  "
            ],
            "text/plain": [
              "<IPython.core.display.Javascript object>"
            ]
          },
          "metadata": {
            "tags": []
          }
        },
        {
          "output_type": "display_data",
          "data": {
            "application/javascript": [
              "download(\"download_3ff94db0-04b8-4e80-872c-192e5374b1e5\", \"result_2.csv\", 4402)"
            ],
            "text/plain": [
              "<IPython.core.display.Javascript object>"
            ]
          },
          "metadata": {
            "tags": []
          }
        }
      ]
    }
  ]
}